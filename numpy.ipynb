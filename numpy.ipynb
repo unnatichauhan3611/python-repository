{
 "cells": [
  {
   "cell_type": "code",
   "id": "initial_id",
   "metadata": {
    "collapsed": true,
    "ExecuteTime": {
     "end_time": "2024-07-11T03:56:37.419469Z",
     "start_time": "2024-07-11T03:56:37.412066Z"
    }
   },
   "source": [
    "import numpy as np\n",
    "\n"
   ],
   "outputs": [],
   "execution_count": 14
  },
  {
   "metadata": {
    "ExecuteTime": {
     "end_time": "2024-07-11T03:57:19.352262Z",
     "start_time": "2024-07-11T03:57:19.344705Z"
    }
   },
   "cell_type": "code",
   "source": [
    "import numpy as np\n",
    "\n",
    "a=[1,2,3,4,5,6]\n",
    "a\n",
    "type(a)\n"
   ],
   "id": "38d4995dcc098881",
   "outputs": [
    {
     "data": {
      "text/plain": [
       "list"
      ]
     },
     "execution_count": 18,
     "metadata": {},
     "output_type": "execute_result"
    }
   ],
   "execution_count": 18
  },
  {
   "metadata": {
    "ExecuteTime": {
     "end_time": "2024-07-11T03:57:25.689631Z",
     "start_time": "2024-07-11T03:57:25.676250Z"
    }
   },
   "cell_type": "code",
   "source": [
    "#creating array from list\n",
    "x=np.array(a)\n",
    "x\n",
    "type(x)\n"
   ],
   "id": "1ed137c648722a31",
   "outputs": [
    {
     "data": {
      "text/plain": [
       "numpy.ndarray"
      ]
     },
     "execution_count": 19,
     "metadata": {},
     "output_type": "execute_result"
    }
   ],
   "execution_count": 19
  },
  {
   "metadata": {
    "ExecuteTime": {
     "end_time": "2024-07-11T03:57:31.604665Z",
     "start_time": "2024-07-11T03:57:31.591636Z"
    }
   },
   "cell_type": "code",
   "source": [
    "a=np.array([[1,2,3,],[4,5,6]])\n",
    "a\n",
    "\n"
   ],
   "id": "9743e71988a17e33",
   "outputs": [
    {
     "data": {
      "text/plain": [
       "array([[1, 2, 3],\n",
       "       [4, 5, 6]])"
      ]
     },
     "execution_count": 20,
     "metadata": {},
     "output_type": "execute_result"
    }
   ],
   "execution_count": 20
  },
  {
   "metadata": {
    "ExecuteTime": {
     "end_time": "2024-07-11T03:57:39.032442Z",
     "start_time": "2024-07-11T03:57:39.004581Z"
    }
   },
   "cell_type": "code",
   "source": [
    "# shape attribute--return shape of an array\n",
    "a.shape\n"
   ],
   "id": "776082e6a2a4a79e",
   "outputs": [
    {
     "data": {
      "text/plain": [
       "(2, 3)"
      ]
     },
     "execution_count": 21,
     "metadata": {},
     "output_type": "execute_result"
    }
   ],
   "execution_count": 21
  },
  {
   "metadata": {
    "ExecuteTime": {
     "end_time": "2024-07-11T03:57:43.054139Z",
     "start_time": "2024-07-11T03:57:43.041659Z"
    }
   },
   "cell_type": "code",
   "source": [
    "#size --return total number of elements in an array\n",
    "a.size\n"
   ],
   "id": "687b9bb973de6ae6",
   "outputs": [
    {
     "data": {
      "text/plain": [
       "6"
      ]
     },
     "execution_count": 22,
     "metadata": {},
     "output_type": "execute_result"
    }
   ],
   "execution_count": 22
  },
  {
   "metadata": {
    "ExecuteTime": {
     "end_time": "2024-07-11T03:57:49.036392Z",
     "start_time": "2024-07-11T03:57:49.025126Z"
    }
   },
   "cell_type": "code",
   "source": [
    "#ndim --gives how many dimension of an array\n",
    "a.ndim"
   ],
   "id": "12304b14faceeac4",
   "outputs": [
    {
     "data": {
      "text/plain": [
       "2"
      ]
     },
     "execution_count": 23,
     "metadata": {},
     "output_type": "execute_result"
    }
   ],
   "execution_count": 23
  },
  {
   "metadata": {
    "ExecuteTime": {
     "end_time": "2024-07-11T03:57:51.669522Z",
     "start_time": "2024-07-11T03:57:51.651093Z"
    }
   },
   "cell_type": "code",
   "source": [
    "#transpose -- convert rows into columns and viz\n",
    "a.T"
   ],
   "id": "555f56e0dc5f197c",
   "outputs": [
    {
     "data": {
      "text/plain": [
       "array([[1, 4],\n",
       "       [2, 5],\n",
       "       [3, 6]])"
      ]
     },
     "execution_count": 24,
     "metadata": {},
     "output_type": "execute_result"
    }
   ],
   "execution_count": 24
  },
  {
   "metadata": {
    "ExecuteTime": {
     "end_time": "2024-07-11T03:58:00.176548Z",
     "start_time": "2024-07-11T03:58:00.161745Z"
    }
   },
   "cell_type": "code",
   "source": [
    "#function :1.reshape--change shape of an array ,make sure product should be equal to original array \n",
    "a=a.reshape(2,3)\n",
    "a\n"
   ],
   "id": "9bb80be414341e3c",
   "outputs": [
    {
     "data": {
      "text/plain": [
       "array([[1, 2, 3],\n",
       "       [4, 5, 6]])"
      ]
     },
     "execution_count": 25,
     "metadata": {},
     "output_type": "execute_result"
    }
   ],
   "execution_count": 25
  },
  {
   "metadata": {
    "ExecuteTime": {
     "end_time": "2024-07-11T03:58:04.530326Z",
     "start_time": "2024-07-11T03:58:04.509679Z"
    }
   },
   "cell_type": "code",
   "source": [
    "b=np.array([11,12,13,14,15,16])\n",
    "b=b.reshape(2,3)\n",
    "b"
   ],
   "id": "4684297703e9efc4",
   "outputs": [
    {
     "data": {
      "text/plain": [
       "array([[11, 12, 13],\n",
       "       [14, 15, 16]])"
      ]
     },
     "execution_count": 26,
     "metadata": {},
     "output_type": "execute_result"
    }
   ],
   "execution_count": 26
  },
  {
   "metadata": {
    "ExecuteTime": {
     "end_time": "2024-07-11T03:58:09.263080Z",
     "start_time": "2024-07-11T03:58:09.229748Z"
    }
   },
   "cell_type": "code",
   "source": [
    "#2.concatenate -- join two array\n",
    "np.concatenate((a,b))"
   ],
   "id": "7766bf7183e8738f",
   "outputs": [
    {
     "data": {
      "text/plain": [
       "array([[ 1,  2,  3],\n",
       "       [ 4,  5,  6],\n",
       "       [11, 12, 13],\n",
       "       [14, 15, 16]])"
      ]
     },
     "execution_count": 27,
     "metadata": {},
     "output_type": "execute_result"
    }
   ],
   "execution_count": 27
  },
  {
   "metadata": {
    "ExecuteTime": {
     "end_time": "2024-07-11T03:58:13.241281Z",
     "start_time": "2024-07-11T03:58:13.228779Z"
    }
   },
   "cell_type": "code",
   "source": [
    "#vstack --join two array vertically\n",
    "np.vstack((a,b))\n"
   ],
   "id": "c7f400f40fbcdcce",
   "outputs": [
    {
     "data": {
      "text/plain": [
       "array([[ 1,  2,  3],\n",
       "       [ 4,  5,  6],\n",
       "       [11, 12, 13],\n",
       "       [14, 15, 16]])"
      ]
     },
     "execution_count": 28,
     "metadata": {},
     "output_type": "execute_result"
    }
   ],
   "execution_count": 28
  },
  {
   "metadata": {
    "ExecuteTime": {
     "end_time": "2024-07-11T03:58:15.790271Z",
     "start_time": "2024-07-11T03:58:15.775310Z"
    }
   },
   "cell_type": "code",
   "source": [
    "#hstack --join two array horizontally(row)\n",
    "np.hstack((a,b))"
   ],
   "id": "5fdbf3efba535c52",
   "outputs": [
    {
     "data": {
      "text/plain": [
       "array([[ 1,  2,  3, 11, 12, 13],\n",
       "       [ 4,  5,  6, 14, 15, 16]])"
      ]
     },
     "execution_count": 29,
     "metadata": {},
     "output_type": "execute_result"
    }
   ],
   "execution_count": 29
  },
  {
   "metadata": {
    "ExecuteTime": {
     "end_time": "2024-07-11T03:58:18.647517Z",
     "start_time": "2024-07-11T03:58:18.639048Z"
    }
   },
   "cell_type": "code",
   "source": [
    "#append --used to add elemention an array at end\n",
    "c=np.array([21,22,23,25,26])\n",
    "c=np.append(c,[27,28,29,30])  # c is an array to be updated ,[array values]\n",
    "\n",
    "c"
   ],
   "id": "9a5dfe21ed9921af",
   "outputs": [
    {
     "data": {
      "text/plain": [
       "array([21, 22, 23, 25, 26, 27, 28, 29, 30])"
      ]
     },
     "execution_count": 30,
     "metadata": {},
     "output_type": "execute_result"
    }
   ],
   "execution_count": 30
  },
  {
   "metadata": {
    "ExecuteTime": {
     "end_time": "2024-07-11T03:58:23.148985Z",
     "start_time": "2024-07-11T03:58:23.136644Z"
    }
   },
   "cell_type": "code",
   "source": [
    "# insert -- add ele at specified index\n",
    "c=np.insert(c,3,24) # which array at what index ,which value\n",
    "c\n",
    "c=np.insert(c,9,30)\n",
    "c"
   ],
   "id": "6462f16171c1620d",
   "outputs": [
    {
     "data": {
      "text/plain": [
       "array([21, 22, 23, 24, 25, 26, 27, 28, 29, 30, 30])"
      ]
     },
     "execution_count": 31,
     "metadata": {},
     "output_type": "execute_result"
    }
   ],
   "execution_count": 31
  },
  {
   "metadata": {
    "ExecuteTime": {
     "end_time": "2024-07-11T03:58:25.674130Z",
     "start_time": "2024-07-11T03:58:25.664041Z"
    }
   },
   "cell_type": "code",
   "source": [
    "#delete -- delete an ele from array\n",
    "c=np.delete(c,[9])\n",
    "c=np.delete(c,[3])\n",
    "c"
   ],
   "id": "d3d7da3b4fdd94b8",
   "outputs": [
    {
     "data": {
      "text/plain": [
       "array([21, 22, 23, 25, 26, 27, 28, 29, 30])"
      ]
     },
     "execution_count": 32,
     "metadata": {},
     "output_type": "execute_result"
    }
   ],
   "execution_count": 32
  },
  {
   "metadata": {
    "ExecuteTime": {
     "end_time": "2024-07-11T04:33:11.162742Z",
     "start_time": "2024-07-11T04:33:11.146541Z"
    }
   },
   "cell_type": "code",
   "source": [
    "#arrange -- it create an array with given size\n",
    "# slicing single dim array\n",
    "#x=np.arange(6) # 0 to n-1, 0 to 5\n",
    "#x             #[0,1,2,3,4,5]\n",
    "y=np.arange(2,30,2)  # 2 to 20 with diff of 4\n",
    "y\n",
    "y=y.reshape(7,2)\n",
    "y\n",
    "y[0:4]  # lower limit to upper limit -1\n"
   ],
   "id": "20763ef2e52cf483",
   "outputs": [
    {
     "data": {
      "text/plain": [
       "array([[ 2,  4],\n",
       "       [ 6,  8],\n",
       "       [10, 12],\n",
       "       [14, 16]])"
      ]
     },
     "execution_count": 61,
     "metadata": {},
     "output_type": "execute_result"
    }
   ],
   "execution_count": 61
  },
  {
   "metadata": {
    "ExecuteTime": {
     "end_time": "2024-07-11T03:58:35.886632Z",
     "start_time": "2024-07-11T03:58:35.158552Z"
    }
   },
   "cell_type": "code",
   "source": [
    "#np.random.rand(4) #1D array with 4 elements \n",
    "#np.random.rand(2,3) #2D array with 2 rows and 3 col\n",
    "#np.random.rand(2,2,3) #3D array with 2 matirx of 2 rows and 3 cols\n",
    "np.random.randn(2,2,3)"
   ],
   "id": "36d1d8b6aed747dc",
   "outputs": [
    {
     "data": {
      "text/plain": [
       "array([[[ 0.79431253, -1.15679192,  0.02831881],\n",
       "        [-0.44526058,  0.66542449, -0.69574748]],\n",
       "\n",
       "       [[ 1.74125749, -0.13903828,  2.33779455],\n",
       "        [ 0.07023992,  1.85611707, -0.73189737]]])"
      ]
     },
     "execution_count": 34,
     "metadata": {},
     "output_type": "execute_result"
    }
   ],
   "execution_count": 34
  },
  {
   "metadata": {
    "ExecuteTime": {
     "end_time": "2024-07-11T03:58:38.482870Z",
     "start_time": "2024-07-11T03:58:38.464143Z"
    }
   },
   "cell_type": "code",
   "source": [
    "# aggregate function\n",
    "a=np.arange(1,11)\n",
    "a\n"
   ],
   "id": "b90d57c296243345",
   "outputs": [
    {
     "data": {
      "text/plain": [
       "array([ 1,  2,  3,  4,  5,  6,  7,  8,  9, 10])"
      ]
     },
     "execution_count": 35,
     "metadata": {},
     "output_type": "execute_result"
    }
   ],
   "execution_count": 35
  },
  {
   "metadata": {
    "ExecuteTime": {
     "end_time": "2024-07-11T04:32:46.399073Z",
     "start_time": "2024-07-11T04:32:46.386739Z"
    }
   },
   "cell_type": "code",
   "source": [
    "#sum-- sum of \n",
    "a.sum()\n",
    "print(a.sum())"
   ],
   "id": "338461a3187d11d0",
   "outputs": [
    {
     "name": "stdout",
     "output_type": "stream",
     "text": [
      "55\n"
     ]
    }
   ],
   "execution_count": 60
  },
  {
   "metadata": {
    "ExecuteTime": {
     "end_time": "2024-07-11T04:01:55.189670Z",
     "start_time": "2024-07-11T04:01:55.179979Z"
    }
   },
   "cell_type": "code",
   "source": [
    "#mean -- find the mean value from all elements\n",
    "a.mean()\n",
    "print(a.mean())\n",
    "\n"
   ],
   "id": "c36102b455d9537",
   "outputs": [
    {
     "name": "stdout",
     "output_type": "stream",
     "text": [
      "5.5\n"
     ]
    }
   ],
   "execution_count": 41
  },
  {
   "metadata": {
    "ExecuteTime": {
     "end_time": "2024-07-11T04:04:10.042880Z",
     "start_time": "2024-07-11T04:04:10.018558Z"
    }
   },
   "cell_type": "code",
   "source": [
    "#std-- dinf standard deviation from all values\n",
    "b=np.arange(2,22,2)\n",
    "b=b.reshape(2,5)\n",
    "print(b)\n",
    "\n",
    "b.std\n",
    "print(b.std())\n"
   ],
   "id": "2a27f97e738f79bd",
   "outputs": [
    {
     "name": "stdout",
     "output_type": "stream",
     "text": [
      "[[ 2  4  6  8 10]\n",
      " [12 14 16 18 20]]\n",
      "5.744562646538029\n"
     ]
    }
   ],
   "execution_count": 46
  },
  {
   "metadata": {
    "ExecuteTime": {
     "end_time": "2024-07-11T04:03:45.180833Z",
     "start_time": "2024-07-11T04:03:45.163124Z"
    }
   },
   "cell_type": "code",
   "source": [
    "#var-- find variance from all elements\n",
    "b.var()\n",
    "print(b.var())\n",
    "\n"
   ],
   "id": "39154acd69aa8a56",
   "outputs": [
    {
     "name": "stdout",
     "output_type": "stream",
     "text": [
      "33.0\n"
     ]
    }
   ],
   "execution_count": 45
  },
  {
   "metadata": {
    "ExecuteTime": {
     "end_time": "2024-07-11T04:03:21.248586Z",
     "start_time": "2024-07-11T04:03:21.240018Z"
    }
   },
   "cell_type": "code",
   "source": [
    "a.prod()\n",
    "print(a.prod())\n",
    "\n"
   ],
   "id": "2978a06846811aba",
   "outputs": [
    {
     "name": "stdout",
     "output_type": "stream",
     "text": [
      "3628800\n"
     ]
    }
   ],
   "execution_count": 44
  },
  {
   "metadata": {
    "ExecuteTime": {
     "end_time": "2024-07-11T04:05:54.537349Z",
     "start_time": "2024-07-11T04:05:54.525730Z"
    }
   },
   "cell_type": "code",
   "source": [
    "#min, max find max and min from all matrix\n",
    "print(b.min())\n",
    "print(b.max())\n"
   ],
   "id": "dfbeaafbce1b8002",
   "outputs": [
    {
     "name": "stdout",
     "output_type": "stream",
     "text": [
      "2\n",
      "20\n"
     ]
    }
   ],
   "execution_count": 47
  },
  {
   "metadata": {
    "ExecuteTime": {
     "end_time": "2024-07-11T04:08:33.802997Z",
     "start_time": "2024-07-11T04:08:33.791249Z"
    }
   },
   "cell_type": "code",
   "source": [
    "#all checks if all array elements along given evaluate\n",
    "print(b)\n",
    "b.all()\n",
    "print(b.all())\n"
   ],
   "id": "9f750638f0995f1",
   "outputs": [
    {
     "name": "stdout",
     "output_type": "stream",
     "text": [
      "[[ 2  4  6  8 10]\n",
      " [12 14 16 18 20]]\n",
      "True\n"
     ]
    }
   ],
   "execution_count": 49
  },
  {
   "metadata": {
    "ExecuteTime": {
     "end_time": "2024-07-11T04:10:34.175318Z",
     "start_time": "2024-07-11T04:10:34.164742Z"
    }
   },
   "cell_type": "code",
   "source": [
    "#zero (rows,col)-- create matrix with 10 by 10 with all zeros\n",
    "b=np.zeros((10,10))\n",
    "b\n",
    "b.all()\n",
    "print(b.all())\n"
   ],
   "id": "aeb90458694dbbb6",
   "outputs": [
    {
     "name": "stdout",
     "output_type": "stream",
     "text": [
      "False\n"
     ]
    }
   ],
   "execution_count": 50
  },
  {
   "metadata": {
    "ExecuteTime": {
     "end_time": "2024-07-11T04:17:19.266229Z",
     "start_time": "2024-07-11T04:17:19.250168Z"
    }
   },
   "cell_type": "code",
   "source": [
    "#eye (row,col,k=+1/-1/0)-- create diagonal matrix filled with 1 at kth  location\n",
    "#any()-- checks if any array elements along a given axis evaluate to true\n",
    "c=np.eye(3)\n",
    "c.any()\n",
    "print(c.any())"
   ],
   "id": "7c78f41e51d8f041",
   "outputs": [
    {
     "name": "stdout",
     "output_type": "stream",
     "text": [
      "True\n"
     ]
    }
   ],
   "execution_count": 51
  },
  {
   "metadata": {
    "ExecuteTime": {
     "end_time": "2024-07-11T04:24:05.977165Z",
     "start_time": "2024-07-11T04:24:05.968614Z"
    }
   },
   "cell_type": "code",
   "source": [
    "d=np.eye(3,5,k=-1) #k=-1,k=1\n",
    "d\n",
    "print(d)"
   ],
   "id": "6ae3604ce119e1b1",
   "outputs": [
    {
     "name": "stdout",
     "output_type": "stream",
     "text": [
      "[[0. 0. 0. 0. 0.]\n",
      " [1. 0. 0. 0. 0.]\n",
      " [0. 1. 0. 0. 0.]]\n"
     ]
    }
   ],
   "execution_count": 54
  },
  {
   "metadata": {},
   "cell_type": "code",
   "outputs": [],
   "execution_count": null,
   "source": "",
   "id": "9661454cee6e8378"
  },
  {
   "metadata": {
    "ExecuteTime": {
     "end_time": "2024-07-11T04:31:42.342078Z",
     "start_time": "2024-07-11T04:31:42.322004Z"
    }
   },
   "cell_type": "code",
   "source": [
    "b=np.zeros((10,10))\n",
    "\n",
    "b1=b.shape[1] #how many values in the index 1 or row 1\n",
    "print(b1)\n",
    "for i in range(10):\n",
    "    b[i]=i\n",
    "    \n",
    "b    \n",
    "print(b)"
   ],
   "id": "7d96edf27f907a6d",
   "outputs": [
    {
     "name": "stdout",
     "output_type": "stream",
     "text": [
      "10\n",
      "[[0. 0. 0. 0. 0. 0. 0. 0. 0. 0.]\n",
      " [1. 1. 1. 1. 1. 1. 1. 1. 1. 1.]\n",
      " [2. 2. 2. 2. 2. 2. 2. 2. 2. 2.]\n",
      " [3. 3. 3. 3. 3. 3. 3. 3. 3. 3.]\n",
      " [4. 4. 4. 4. 4. 4. 4. 4. 4. 4.]\n",
      " [5. 5. 5. 5. 5. 5. 5. 5. 5. 5.]\n",
      " [6. 6. 6. 6. 6. 6. 6. 6. 6. 6.]\n",
      " [7. 7. 7. 7. 7. 7. 7. 7. 7. 7.]\n",
      " [8. 8. 8. 8. 8. 8. 8. 8. 8. 8.]\n",
      " [9. 9. 9. 9. 9. 9. 9. 9. 9. 9.]]\n"
     ]
    }
   ],
   "execution_count": 58
  },
  {
   "metadata": {
    "ExecuteTime": {
     "end_time": "2024-07-11T04:46:59.454554Z",
     "start_time": "2024-07-11T04:46:59.426022Z"
    }
   },
   "cell_type": "code",
   "source": [
    "#cumsum()--returns the cumulative sum of the elements along a given axis\n",
    "b=np.arange(2,22,2)\n",
    "b=b.reshape(2,5)\n",
    "print(b)\n",
    "b.cumsum() #2+4+6+8+10+12+14---\n",
    "\n"
   ],
   "id": "456d5b74a33c6cf4",
   "outputs": [
    {
     "name": "stdout",
     "output_type": "stream",
     "text": [
      "[[ 2  4  6  8 10]\n",
      " [12 14 16 18 20]]\n"
     ]
    },
    {
     "data": {
      "text/plain": [
       "array([  2,   6,  12,  20,  30,  42,  56,  72,  90, 110])"
      ]
     },
     "execution_count": 62,
     "metadata": {},
     "output_type": "execute_result"
    }
   ],
   "execution_count": 62
  },
  {
   "metadata": {
    "ExecuteTime": {
     "end_time": "2024-07-11T04:50:32.400239Z",
     "start_time": "2024-07-11T04:50:32.392447Z"
    }
   },
   "cell_type": "code",
   "source": [
    "#cumprod-- returns the cumulative product of the elements along a given axis\n",
    "b.cumprod()\n"
   ],
   "id": "a1ce5c87fb82645d",
   "outputs": [
    {
     "data": {
      "text/plain": [
       "array([         2,          8,         48,        384,       3840,\n",
       "            46080,     645120,   10321920,  185794560, 3715891200])"
      ]
     },
     "execution_count": 63,
     "metadata": {},
     "output_type": "execute_result"
    }
   ],
   "execution_count": 63
  },
  {
   "metadata": {
    "ExecuteTime": {
     "end_time": "2024-07-11T04:56:20.611652Z",
     "start_time": "2024-07-11T04:56:20.601140Z"
    }
   },
   "cell_type": "code",
   "source": [
    "array1=np.array([1,2,3,4,5])\n",
    "number=10\n",
    "result=array1+number\n",
    "print(result)\n",
    "print(type(result))"
   ],
   "id": "25c47c4d84c5e930",
   "outputs": [
    {
     "name": "stdout",
     "output_type": "stream",
     "text": [
      "[11 12 13 14 15]\n",
      "<class 'numpy.ndarray'>\n"
     ]
    }
   ],
   "execution_count": 64
  },
  {
   "metadata": {
    "ExecuteTime": {
     "end_time": "2024-07-11T04:59:05.855730Z",
     "start_time": "2024-07-11T04:59:05.845792Z"
    }
   },
   "cell_type": "code",
   "source": [
    "#vectorisation\n",
    "array1 = np.array([1, 2, 3, 4, 5 ])\n",
    "number = 10\n",
    "\n",
    "#  number sums up with each array element\n",
    "result = array1 + number\n",
    "\n",
    "print(result)\n",
    "print(type(result))\n"
   ],
   "id": "68542ae502686572",
   "outputs": [
    {
     "name": "stdout",
     "output_type": "stream",
     "text": [
      "[11 12 13 14 15]\n",
      "<class 'numpy.ndarray'>\n"
     ]
    }
   ],
   "execution_count": 65
  },
  {
   "metadata": {
    "ExecuteTime": {
     "end_time": "2024-07-11T05:09:34.471838Z",
     "start_time": "2024-07-11T05:09:34.448398Z"
    }
   },
   "cell_type": "code",
   "source": [
    "#vectoriastion is used because it takes less time then loop \n",
    "# find square of number in an array\n",
    "import time\n",
    "start_time= time.time()\n",
    "def find_square(x):\n",
    "    if x < 0:\n",
    "        return 0\n",
    "    else:\n",
    "        return x ** 2\n",
    "\n",
    "\n",
    "#s=find_square(4)\n",
    "#s\n",
    "array1 = [1, 2, 3, 4, 5]\n",
    "v_func=np.vectorize(find_square)\n",
    "s=v_func(array1)\n",
    "\n",
    "print(s)\n",
    "\n",
    "end_time= time.time()\n",
    "\n",
    "print(\"total execution time is\",end_time-start_time)\n"
   ],
   "id": "bc945d9c12f83d1",
   "outputs": [
    {
     "name": "stdout",
     "output_type": "stream",
     "text": [
      "[ 1  4  9 16 25]\n",
      "total execution time is 0.007269620895385742\n"
     ]
    }
   ],
   "execution_count": 67
  },
  {
   "metadata": {
    "ExecuteTime": {
     "end_time": "2024-07-11T05:24:07.929848Z",
     "start_time": "2024-07-11T05:24:07.922750Z"
    }
   },
   "cell_type": "code",
   "source": [
    "#broadcasting = we can perform mathematical operations on array of diff shapes . an array with a smaller is expanded to match the shape of a large\n",
    "array1= np.array([1,2,3])\n",
    "array2=np.array([[1],[2],[3]])\n",
    "#print(array2)\n",
    "\n",
    "sum= array1+ array2\n",
    "print(sum)\n"
   ],
   "id": "e2c6b50b81eb4a7e",
   "outputs": [
    {
     "name": "stdout",
     "output_type": "stream",
     "text": [
      "[[2 3 4]\n",
      " [3 4 5]\n",
      " [4 5 6]]\n"
     ]
    }
   ],
   "execution_count": 69
  },
  {
   "metadata": {},
   "cell_type": "code",
   "outputs": [],
   "execution_count": null,
   "source": [
    "b=5\n",
    "c=a+b"
   ],
   "id": "57a8fbf0e9055a78"
  },
  {
   "metadata": {
    "ExecuteTime": {
     "end_time": "2024-07-15T03:56:07.626260Z",
     "start_time": "2024-07-15T03:56:07.607843Z"
    }
   },
   "cell_type": "code",
   "source": [
    "#campatibility rules: one of them has a length of 1 or they are equal\n",
    "#check from right to left\n",
    "x=np.arange(2,22,2)\n",
    "\n",
    "#print(x)\n",
    "\n",
    "y=np.arange(30,40)\n",
    "\n",
    "w=np.arange(2)\n",
    "\n",
    "x=x.reshape(2,5)\n",
    "\n",
    "#y=y.reshape(5,2)  # cannot broadcast\n",
    "#y=y.reshape(10,1)  # cannot broadcast\n",
    "y=y.reshape(2,5)\n",
    "\n",
    "#w=w.reshape(1,2)  #cannot broadcast\n",
    "w=w.reshape(2,1)\n",
    "print(w)\n",
    "z=x+y+w\n",
    "z"
   ],
   "id": "bc76c69fe14c7212",
   "outputs": [
    {
     "name": "stdout",
     "output_type": "stream",
     "text": [
      "[[0]\n",
      " [1]]\n"
     ]
    },
    {
     "data": {
      "text/plain": [
       "array([[32, 35, 38, 41, 44],\n",
       "       [48, 51, 54, 57, 60]])"
      ]
     },
     "execution_count": 2,
     "metadata": {},
     "output_type": "execute_result"
    }
   ],
   "execution_count": 2
  },
  {
   "metadata": {
    "ExecuteTime": {
     "end_time": "2024-07-15T04:06:35.702011Z",
     "start_time": "2024-07-15T04:06:35.693112Z"
    }
   },
   "cell_type": "code",
   "source": [
    "a=np.array([[10,20,30],[40,50,60]])\n",
    "a\n",
    "#broadcasting with scalar\n",
    "b=5\n",
    "c=a+b\n",
    "c"
   ],
   "id": "346bd67d9da84940",
   "outputs": [
    {
     "data": {
      "text/plain": [
       "array([[15, 25, 35],\n",
       "       [45, 55, 65]])"
      ]
     },
     "execution_count": 7,
     "metadata": {},
     "output_type": "execute_result"
    }
   ],
   "execution_count": 7
  },
  {
   "metadata": {
    "ExecuteTime": {
     "end_time": "2024-07-15T04:20:56.692028Z",
     "start_time": "2024-07-15T04:20:56.683271Z"
    }
   },
   "cell_type": "code",
   "source": [
    "#boolean indexing allows us to filter elements from an array based on specific condition\n",
    "import numpy as np \n",
    "a=np.array([23,56,88,1,2,4,10,15])\n",
    "# boolean mask\n",
    "bm=a>40\n",
    "print(bm)\n",
    "print(a[bm]) #accessing values in an array-->array name[index]"
   ],
   "id": "b8d313cc8715a588",
   "outputs": [
    {
     "name": "stdout",
     "output_type": "stream",
     "text": [
      "[False  True  True False False False False False]\n",
      "[56 88]\n"
     ]
    }
   ],
   "execution_count": 19
  },
  {
   "metadata": {
    "ExecuteTime": {
     "end_time": "2024-07-15T04:06:53.929113Z",
     "start_time": "2024-07-15T04:06:53.921328Z"
    }
   },
   "cell_type": "code",
   "source": "",
   "id": "4663a231b7a08c2d",
   "outputs": [],
   "execution_count": 7
  },
  {
   "metadata": {
    "ExecuteTime": {
     "end_time": "2024-07-15T04:21:07.733097Z",
     "start_time": "2024-07-15T04:21:07.721885Z"
    }
   },
   "cell_type": "code",
   "source": [
    "# use boolean index to select even number from list\n",
    "bm1=(a%2==0)\n",
    "print(bm1)\n",
    "print(a[bm1])"
   ],
   "id": "196f50661647d50f",
   "outputs": [
    {
     "name": "stdout",
     "output_type": "stream",
     "text": [
      "[False  True  True False  True  True  True False]\n",
      "[56 88  2  4 10]\n"
     ]
    }
   ],
   "execution_count": 20
  },
  {
   "metadata": {
    "ExecuteTime": {
     "end_time": "2024-07-15T04:21:17.224424Z",
     "start_time": "2024-07-15T04:21:17.218360Z"
    }
   },
   "cell_type": "code",
   "source": [
    "bm2=(a%2==0)&(a>40)  # even number greater than 40\n",
    "print(bm2)\n",
    "print(a[bm2])"
   ],
   "id": "cbc148cbed423fe3",
   "outputs": [
    {
     "name": "stdout",
     "output_type": "stream",
     "text": [
      "[False  True  True False False False False False]\n",
      "[56 88]\n"
     ]
    }
   ],
   "execution_count": 21
  },
  {
   "metadata": {
    "ExecuteTime": {
     "end_time": "2024-07-15T04:13:24.427162Z",
     "start_time": "2024-07-15T04:13:24.413513Z"
    }
   },
   "cell_type": "code",
   "source": [
    " # logical AND ,OR\n",
    "#update the true value with specified value\n",
    "a[a%2==0]=100\n",
    "a"
   ],
   "id": "132c7321e0e18a49",
   "outputs": [
    {
     "data": {
      "text/plain": [
       "array([ 23, 100, 100,   1, 100, 100, 100,  15])"
      ]
     },
     "execution_count": 12,
     "metadata": {},
     "output_type": "execute_result"
    }
   ],
   "execution_count": 12
  },
  {
   "metadata": {
    "ExecuteTime": {
     "end_time": "2024-07-15T04:15:05.255184Z",
     "start_time": "2024-07-15T04:15:05.243359Z"
    }
   },
   "cell_type": "code",
   "source": [
    "# create a 2D  array\n",
    "array1 = np.array([[1, 7, 9], \n",
    "                    [14, 19, 21], \n",
    "                    [25, 29, 35]])\n",
    "\n",
    "# create a boolean mask based on the condition \n",
    "# that elements are greater than 9\n",
    "boolean_mask = array1 > 9\n",
    "\n",
    "# select only the elements that satisfy the condition\n",
    "result = array1[boolean_mask]\n",
    "\n",
    "print(result)\n",
    "print(boolean_mask)"
   ],
   "id": "99053d0e1b06d941",
   "outputs": [
    {
     "name": "stdout",
     "output_type": "stream",
     "text": [
      "[14 19 21 25 29 35]\n",
      "[[False False False]\n",
      " [ True  True  True]\n",
      " [ True  True  True]]\n"
     ]
    }
   ],
   "execution_count": 13
  },
  {
   "metadata": {
    "ExecuteTime": {
     "end_time": "2024-07-15T04:18:59.005957Z",
     "start_time": "2024-07-15T04:18:58.997232Z"
    }
   },
   "cell_type": "code",
   "source": [
    "# update the true value with specified value\n",
    "a[bm2]=100\n",
    "a"
   ],
   "id": "429d404ebbc6c336",
   "outputs": [
    {
     "data": {
      "text/plain": [
       "array([ 23, 100, 100,   1, 100, 100, 100,  15])"
      ]
     },
     "execution_count": 16,
     "metadata": {},
     "output_type": "execute_result"
    }
   ],
   "execution_count": 16
  },
  {
   "metadata": {
    "ExecuteTime": {
     "end_time": "2024-07-15T04:18:59.068478Z",
     "start_time": "2024-07-15T04:18:59.058824Z"
    }
   },
   "cell_type": "code",
   "source": "",
   "id": "26027015ce39e070",
   "outputs": [],
   "execution_count": 16
  },
  {
   "metadata": {},
   "cell_type": "code",
   "outputs": [],
   "execution_count": null,
   "source": "",
   "id": "6a1503733327e442"
  }
 ],
 "metadata": {
  "kernelspec": {
   "display_name": "Python 3",
   "language": "python",
   "name": "python3"
  },
  "language_info": {
   "codemirror_mode": {
    "name": "ipython",
    "version": 2
   },
   "file_extension": ".py",
   "mimetype": "text/x-python",
   "name": "python",
   "nbconvert_exporter": "python",
   "pygments_lexer": "ipython2",
   "version": "2.7.6"
  }
 },
 "nbformat": 4,
 "nbformat_minor": 5
}
